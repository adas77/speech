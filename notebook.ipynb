{
 "cells": [
  {
   "cell_type": "code",
   "execution_count": null,
   "metadata": {},
   "outputs": [],
   "source": [
    "import os\n",
    "import sys\n",
    "\n",
    "from server.utils.audio import Audio\n",
    "\n",
    "module_path = os.path.abspath(os.path.join('..'))\n",
    "if module_path not in sys.path:\n",
    "    sys.path.append(module_path+\"/server\")"
   ]
  },
  {
   "attachments": {},
   "cell_type": "markdown",
   "metadata": {},
   "source": [
    "`Analiza dźwięku`"
   ]
  },
  {
   "cell_type": "code",
   "execution_count": null,
   "metadata": {},
   "outputs": [],
   "source": [
    "from server.utils.audio import Audio\n",
    "\n",
    "audio = Audio('data/yes/0132a06d_nohash_2.wav')\n",
    "audio.spectogram()\n",
    "audio.spectogram(True)\n",
    "audio.mfcc()\n",
    "audio.test()"
   ]
  },
  {
   "attachments": {},
   "cell_type": "markdown",
   "metadata": {},
   "source": [
    "`Librosa split`"
   ]
  },
  {
   "cell_type": "code",
   "execution_count": null,
   "metadata": {},
   "outputs": [],
   "source": [
    "# FIXME\n",
    "import librosa\n",
    "import soundfile as sf\n",
    "from server.utils.audio import Audio\n",
    "\n",
    "\n",
    "# https://programtalk.com/python-more-examples/librosa.effects.split/\n",
    "# https://musicinformationretrieval.com/feature_sonification.html\n",
    "# w zaleznosci od top_db bedzie rozna ilosc nowych czesci\n",
    "def split_signal(signal, top_db=50):\n",
    "    intervals = librosa.effects.split(signal, top_db=top_db)\n",
    "    signals = map(lambda i: signal[i[0]: i[1]], intervals)\n",
    "    return signals\n",
    "\n",
    "\n",
    "signal, sample_rate = librosa.load(\n",
    "    'server/audio/common_voice_en_32941808.wav', sr=16000)\n",
    "\n",
    "new_signal = split_signal(signal)\n",
    "print(len(signal))\n",
    "\n",
    "\n",
    "for i, key in enumerate(new_signal):\n",
    "    print(i, key)\n",
    "    Audio.spectogram(key, 8000)\n",
    "    sf.write(f'server/audio/tone_{i}.wav', key, 16000)\n",
    "    # librosa.output.write_wav(f'server/audio/tone_{i}.wav', new_signal, 8000)\n",
    "Audio.spectogram(signal, 8000)\n"
   ]
  },
  {
   "attachments": {},
   "cell_type": "markdown",
   "metadata": {},
   "source": [
    "`Pydub split`"
   ]
  },
  {
   "cell_type": "code",
   "execution_count": 1,
   "metadata": {},
   "outputs": [
    {
     "name": "stderr",
     "output_type": "stream",
     "text": [
      "2023-03-10 22:02:12.677999: I tensorflow/core/platform/cpu_feature_guard.cc:193] This TensorFlow binary is optimized with oneAPI Deep Neural Network Library (oneDNN) to use the following CPU instructions in performance-critical operations:  AVX2 FMA\n",
      "To enable them in other operations, rebuild TensorFlow with the appropriate compiler flags.\n",
      "2023-03-10 22:02:12.771361: W tensorflow/compiler/xla/stream_executor/platform/default/dso_loader.cc:64] Could not load dynamic library 'libcudart.so.11.0'; dlerror: libcudart.so.11.0: cannot open shared object file: No such file or directory\n",
      "2023-03-10 22:02:12.771375: I tensorflow/compiler/xla/stream_executor/cuda/cudart_stub.cc:29] Ignore above cudart dlerror if you do not have a GPU set up on your machine.\n",
      "2023-03-10 22:02:13.288440: W tensorflow/compiler/xla/stream_executor/platform/default/dso_loader.cc:64] Could not load dynamic library 'libnvinfer.so.7'; dlerror: libnvinfer.so.7: cannot open shared object file: No such file or directory\n",
      "2023-03-10 22:02:13.288495: W tensorflow/compiler/xla/stream_executor/platform/default/dso_loader.cc:64] Could not load dynamic library 'libnvinfer_plugin.so.7'; dlerror: libnvinfer_plugin.so.7: cannot open shared object file: No such file or directory\n",
      "2023-03-10 22:02:13.288501: W tensorflow/compiler/tf2tensorrt/utils/py_utils.cc:38] TF-TRT Warning: Cannot dlopen some TensorRT libraries. If you would like to use Nvidia GPU with TensorRT, please make sure the missing libraries mentioned above are installed properly.\n",
      "[nltk_data] Downloading package punkt to /home/adam/nltk_data...\n",
      "[nltk_data]   Package punkt is already up-to-date!\n",
      "[nltk_data] Downloading package stopwords to /home/adam/nltk_data...\n",
      "[nltk_data]   Package stopwords is already up-to-date!\n"
     ]
    },
    {
     "name": "stdout",
     "output_type": "stream",
     "text": [
      "Total chunks: 7\n",
      "exporting server/audio/splitted_test_chunk_0.wav\n",
      "exporting server/audio/splitted_test_chunk_1.wav\n",
      "exporting server/audio/splitted_test_chunk_2.wav\n",
      "exporting server/audio/splitted_test_chunk_3.wav\n",
      "exporting server/audio/splitted_test_chunk_4.wav\n",
      "exporting server/audio/splitted_test_chunk_5.wav\n",
      "exporting server/audio/splitted_test_chunk_6.wav\n"
     ]
    },
    {
     "data": {
      "text/plain": [
       "['server/audio/splitted_test_chunk_0.wav',\n",
       " 'server/audio/splitted_test_chunk_1.wav',\n",
       " 'server/audio/splitted_test_chunk_2.wav',\n",
       " 'server/audio/splitted_test_chunk_3.wav',\n",
       " 'server/audio/splitted_test_chunk_4.wav',\n",
       " 'server/audio/splitted_test_chunk_5.wav',\n",
       " 'server/audio/splitted_test_chunk_6.wav']"
      ]
     },
     "execution_count": 1,
     "metadata": {},
     "output_type": "execute_result"
    }
   ],
   "source": [
    "from server.utils.audio import Splitter\n",
    "splitter = Splitter()\n",
    "splitter.split_in_parts('server/audio/common_voice_en_32941808.wav',\n",
    "                        'server/audio/splitted_test_', 2)\n"
   ]
  },
  {
   "attachments": {},
   "cell_type": "markdown",
   "metadata": {},
   "source": [
    "<!-- TODO -->\n",
    "Text To Speech\n",
    "`Text analytics`"
   ]
  },
  {
   "cell_type": "code",
   "execution_count": null,
   "metadata": {},
   "outputs": [],
   "source": [
    "from server.utils.audio import TextToSpeech\n",
    "ts = TextToSpeech()\n",
    "ts.example()\n"
   ]
  },
  {
   "attachments": {},
   "cell_type": "markdown",
   "metadata": {},
   "source": [
    "`Text To Speech`"
   ]
  },
  {
   "cell_type": "code",
   "execution_count": null,
   "metadata": {},
   "outputs": [],
   "source": [
    "from server.utils.audio import SpeechToText\n",
    "st = SpeechToText('data', 'trained.hdf5')\n",
    "st.train()\n"
   ]
  },
  {
   "attachments": {},
   "cell_type": "markdown",
   "metadata": {},
   "source": [
    "`Predicted based on trained model`\n"
   ]
  },
  {
   "cell_type": "code",
   "execution_count": null,
   "metadata": {},
   "outputs": [],
   "source": [
    "import os\n",
    "\n",
    "from server.utils.audio import SpeechToText\n",
    "\n",
    "f = os.listdir('./data/bird/')\n",
    "for a in f:\n",
    "    a = SpeechToText.predict(f'./data/bird/{a}')\n",
    "    print(a)\n",
    "\n"
   ]
  },
  {
   "cell_type": "code",
   "execution_count": null,
   "metadata": {},
   "outputs": [],
   "source": [
    "import os\n",
    "\n",
    "from server.utils.audio import SpeechToText\n",
    "\n",
    "f = os.listdir('./data/yes/')\n",
    "for a in f:\n",
    "    a = SpeechToText.predict(f'./data/yes/{a}')\n",
    "    print(a)"
   ]
  }
 ],
 "metadata": {
  "kernelspec": {
   "display_name": "Python 3",
   "language": "python",
   "name": "python3"
  },
  "language_info": {
   "codemirror_mode": {
    "name": "ipython",
    "version": 3
   },
   "file_extension": ".py",
   "mimetype": "text/x-python",
   "name": "python",
   "nbconvert_exporter": "python",
   "pygments_lexer": "ipython3",
   "version": "3.10.6"
  },
  "orig_nbformat": 4,
  "vscode": {
   "interpreter": {
    "hash": "31f2aee4e71d21fbe5cf8b01ff0e069b9275f58929596ceb00d14d90e3e16cd6"
   }
  }
 },
 "nbformat": 4,
 "nbformat_minor": 2
}
